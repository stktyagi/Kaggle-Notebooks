{
 "cells": [
  {
   "cell_type": "code",
   "execution_count": 1,
   "id": "b4a2bed2",
   "metadata": {
    "_cell_guid": "b1076dfc-b9ad-4769-8c92-a6c4dae69d19",
    "_uuid": "8f2839f25d086af736a60e9eeb907d3b93b6e0e5",
    "execution": {
     "iopub.execute_input": "2024-06-21T15:01:10.493616Z",
     "iopub.status.busy": "2024-06-21T15:01:10.493095Z",
     "iopub.status.idle": "2024-06-21T15:01:13.792712Z",
     "shell.execute_reply": "2024-06-21T15:01:13.791266Z"
    },
    "papermill": {
     "duration": 3.312184,
     "end_time": "2024-06-21T15:01:13.795388",
     "exception": false,
     "start_time": "2024-06-21T15:01:10.483204",
     "status": "completed"
    },
    "tags": []
   },
   "outputs": [
    {
     "name": "stdout",
     "output_type": "stream",
     "text": [
      "/kaggle/input/titanic/train.csv\n",
      "/kaggle/input/titanic/test.csv\n",
      "/kaggle/input/titanic/gender_submission.csv\n"
     ]
    }
   ],
   "source": [
    "# This Python 3 environment comes with many helpful analytics libraries installed\n",
    "# It is defined by the kaggle/python Docker image: https://github.com/kaggle/docker-python\n",
    "# For example, here's several helpful packages to load\n",
    "\n",
    "import numpy as np # linear algebra\n",
    "import pandas as pd # data processing, CSV file I/O (e.g. pd.read_csv)\n",
    "import seaborn as sns \n",
    "import matplotlib.pyplot as plt \n",
    "from sklearn.linear_model import LogisticRegression\n",
    "from sklearn.metrics import accuracy_score\n",
    "import warnings\n",
    "from sklearn.model_selection import train_test_split\n",
    "# Input data files are available in the read-only \"../input/\" directory\n",
    "# For example, running this (by clicking run or pressing Shift+Enter) will list all files under the input directory\n",
    "warnings.filterwarnings('ignore')\n",
    "import os\n",
    "for dirname, _, filenames in os.walk('/kaggle/input'):\n",
    "    for filename in filenames:\n",
    "        print(os.path.join(dirname, filename))\n",
    "\n",
    "# You can write up to 20GB to the current directory (/kaggle/working/) that gets preserved as output when you create a version using \"Save & Run All\" \n",
    "# You can also write temporary files to /kaggle/temp/, but they won't be saved outside of the current session"
   ]
  },
  {
   "cell_type": "markdown",
   "id": "c1c99406",
   "metadata": {
    "papermill": {
     "duration": 0.006927,
     "end_time": "2024-06-21T15:01:13.809712",
     "exception": false,
     "start_time": "2024-06-21T15:01:13.802785",
     "status": "completed"
    },
    "tags": []
   },
   "source": [
    "#  **Loading the Data**"
   ]
  },
  {
   "cell_type": "code",
   "execution_count": 2,
   "id": "8ce6602a",
   "metadata": {
    "execution": {
     "iopub.execute_input": "2024-06-21T15:01:13.826266Z",
     "iopub.status.busy": "2024-06-21T15:01:13.825417Z",
     "iopub.status.idle": "2024-06-21T15:01:13.880378Z",
     "shell.execute_reply": "2024-06-21T15:01:13.878873Z"
    },
    "papermill": {
     "duration": 0.066294,
     "end_time": "2024-06-21T15:01:13.883312",
     "exception": false,
     "start_time": "2024-06-21T15:01:13.817018",
     "status": "completed"
    },
    "tags": []
   },
   "outputs": [
    {
     "name": "stdout",
     "output_type": "stream",
     "text": [
      "<bound method DataFrame.info of      PassengerId  Survived  Pclass  \\\n",
      "0              1         0       3   \n",
      "1              2         1       1   \n",
      "2              3         1       3   \n",
      "3              4         1       1   \n",
      "4              5         0       3   \n",
      "..           ...       ...     ...   \n",
      "886          887         0       2   \n",
      "887          888         1       1   \n",
      "888          889         0       3   \n",
      "889          890         1       1   \n",
      "890          891         0       3   \n",
      "\n",
      "                                                  Name     Sex   Age  SibSp  \\\n",
      "0                              Braund, Mr. Owen Harris    male  22.0      1   \n",
      "1    Cumings, Mrs. John Bradley (Florence Briggs Th...  female  38.0      1   \n",
      "2                               Heikkinen, Miss. Laina  female  26.0      0   \n",
      "3         Futrelle, Mrs. Jacques Heath (Lily May Peel)  female  35.0      1   \n",
      "4                             Allen, Mr. William Henry    male  35.0      0   \n",
      "..                                                 ...     ...   ...    ...   \n",
      "886                              Montvila, Rev. Juozas    male  27.0      0   \n",
      "887                       Graham, Miss. Margaret Edith  female  19.0      0   \n",
      "888           Johnston, Miss. Catherine Helen \"Carrie\"  female   NaN      1   \n",
      "889                              Behr, Mr. Karl Howell    male  26.0      0   \n",
      "890                                Dooley, Mr. Patrick    male  32.0      0   \n",
      "\n",
      "     Parch            Ticket     Fare Cabin Embarked  \n",
      "0        0         A/5 21171   7.2500   NaN        S  \n",
      "1        0          PC 17599  71.2833   C85        C  \n",
      "2        0  STON/O2. 3101282   7.9250   NaN        S  \n",
      "3        0            113803  53.1000  C123        S  \n",
      "4        0            373450   8.0500   NaN        S  \n",
      "..     ...               ...      ...   ...      ...  \n",
      "886      0            211536  13.0000   NaN        S  \n",
      "887      0            112053  30.0000   B42        S  \n",
      "888      2        W./C. 6607  23.4500   NaN        S  \n",
      "889      0            111369  30.0000  C148        C  \n",
      "890      0            370376   7.7500   NaN        Q  \n",
      "\n",
      "[891 rows x 12 columns]>\n"
     ]
    }
   ],
   "source": [
    "data_train=pd.read_csv('/kaggle/input/titanic/train.csv')\n",
    "data_test=pd.read_csv('/kaggle/input/titanic/test.csv')\n",
    "print(data_train.info)"
   ]
  },
  {
   "cell_type": "markdown",
   "id": "b9b0b0d4",
   "metadata": {
    "papermill": {
     "duration": 0.006846,
     "end_time": "2024-06-21T15:01:13.897548",
     "exception": false,
     "start_time": "2024-06-21T15:01:13.890702",
     "status": "completed"
    },
    "tags": []
   },
   "source": [
    "# **Determing Necessary Features**\n"
   ]
  },
  {
   "cell_type": "code",
   "execution_count": 3,
   "id": "0ad0abcf",
   "metadata": {
    "execution": {
     "iopub.execute_input": "2024-06-21T15:01:13.915024Z",
     "iopub.status.busy": "2024-06-21T15:01:13.914600Z",
     "iopub.status.idle": "2024-06-21T15:01:13.929079Z",
     "shell.execute_reply": "2024-06-21T15:01:13.927598Z"
    },
    "papermill": {
     "duration": 0.026227,
     "end_time": "2024-06-21T15:01:13.931877",
     "exception": false,
     "start_time": "2024-06-21T15:01:13.905650",
     "status": "completed"
    },
    "tags": []
   },
   "outputs": [
    {
     "name": "stdout",
     "output_type": "stream",
     "text": [
      "18.890814558058924\n",
      "74.20382165605095\n"
     ]
    }
   ],
   "source": [
    "men=data_train.loc[(data_train.Sex=='male')]\n",
    "men_survived=data_train.loc[(data_train.Sex=='male') & (data_train.Survived==1)]\n",
    "\n",
    "women=data_train.loc[(data_train.Sex=='female')]\n",
    "women_survived=data_train.loc[(data_train.Sex=='female') & (data_train.Survived==1)]\n",
    "\n",
    "print(len(men_survived)/len(men)*100)\n",
    "print(len(women_survived)/len(women)*100)"
   ]
  },
  {
   "cell_type": "markdown",
   "id": "444c81f6",
   "metadata": {
    "papermill": {
     "duration": 0.007572,
     "end_time": "2024-06-21T15:01:13.946999",
     "exception": false,
     "start_time": "2024-06-21T15:01:13.939427",
     "status": "completed"
    },
    "tags": []
   },
   "source": [
    "<span style=\"font-size: 18px;\">Shipwreck cases require women and children to be evacuated before men, therefore survival rate of women is more than men.\n",
    "This can be an essential feature.\n",
    "</span>"
   ]
  },
  {
   "cell_type": "code",
   "execution_count": 4,
   "id": "6bed4c78",
   "metadata": {
    "execution": {
     "iopub.execute_input": "2024-06-21T15:01:13.963853Z",
     "iopub.status.busy": "2024-06-21T15:01:13.963401Z",
     "iopub.status.idle": "2024-06-21T15:01:13.981531Z",
     "shell.execute_reply": "2024-06-21T15:01:13.979912Z"
    },
    "papermill": {
     "duration": 0.029737,
     "end_time": "2024-06-21T15:01:13.984199",
     "exception": false,
     "start_time": "2024-06-21T15:01:13.954462",
     "status": "completed"
    },
    "tags": []
   },
   "outputs": [
    {
     "name": "stdout",
     "output_type": "stream",
     "text": [
      "0.5398230088495575\n",
      "0.3882978723404255\n",
      "0.125\n"
     ]
    }
   ],
   "source": [
    "children=data_train.loc[(data_train.Age<18)]\n",
    "children_survived=data_train.loc[(data_train.Age<18) & (data_train.Survived==1)]\n",
    "print((len(children_survived)/len(children)))\n",
    "\n",
    "adult=data_train.loc[(data_train.Age>18) & (data_train.Age<65)]\n",
    "adult_survived=data_train.loc[(data_train.Age>18) & (data_train.Age<65) & (data_train.Survived==1)]\n",
    "print((len(adult_survived)/len(adult)))\n",
    "\n",
    "elder=data_train.loc[(data_train.Age>65)]\n",
    "elder_survived=data_train.loc[(data_train.Age>65) & (data_train.Survived==1)]\n",
    "print((len(elder_survived)/len(elder)))"
   ]
  },
  {
   "cell_type": "markdown",
   "id": "94262258",
   "metadata": {
    "papermill": {
     "duration": 0.007351,
     "end_time": "2024-06-21T15:01:13.999582",
     "exception": false,
     "start_time": "2024-06-21T15:01:13.992231",
     "status": "completed"
    },
    "tags": []
   },
   "source": [
    "<span style=\"font-size: 18px;\">There is also a noticeable difference between survival of different age groups.</span>"
   ]
  },
  {
   "cell_type": "code",
   "execution_count": 5,
   "id": "f4977f21",
   "metadata": {
    "execution": {
     "iopub.execute_input": "2024-06-21T15:01:14.017320Z",
     "iopub.status.busy": "2024-06-21T15:01:14.016955Z",
     "iopub.status.idle": "2024-06-21T15:01:14.046125Z",
     "shell.execute_reply": "2024-06-21T15:01:14.044961Z"
    },
    "papermill": {
     "duration": 0.041086,
     "end_time": "2024-06-21T15:01:14.048876",
     "exception": false,
     "start_time": "2024-06-21T15:01:14.007790",
     "status": "completed"
    },
    "tags": []
   },
   "outputs": [
    {
     "name": "stdout",
     "output_type": "stream",
     "text": [
      "0.6909090909090909\n",
      "0.39655172413793105\n",
      "0.18328840970350405\n",
      "0.7823834196891192\n",
      "0.125\n",
      "0\n"
     ]
    }
   ],
   "source": [
    "girl_children=data_train.loc[(data_train.Age<18) & (data_train.Sex=='female')]\n",
    "girl_children_survived=data_train.loc[(data_train.Age<18) & (data_train.Sex=='female') & (data_train.Survived==1)]\n",
    "print((len(girl_children_survived)/len(girl_children)))\n",
    "\n",
    "boy_children=data_train.loc[(data_train.Age<18) & (data_train.Sex=='male')]\n",
    "boy_children_survived=data_train.loc[(data_train.Age<18) & (data_train.Sex=='male') & (data_train.Survived==1)]\n",
    "print((len(boy_children_survived)/len(boy_children)))\n",
    "\n",
    "men_adult=data_train.loc[(data_train.Age>18) & (data_train.Sex=='male') & (data_train.Age<65)]\n",
    "men_adult_survived=data_train.loc[(data_train.Age>18) & (data_train.Sex=='male') & (data_train.Age<65) & (data_train.Survived==1)]\n",
    "print((len(men_adult_survived)/len(men_adult)))\n",
    "\n",
    "women_adult=data_train.loc[(data_train.Age>18) & (data_train.Sex=='female') & (data_train.Age<65)]\n",
    "women_adult_survived=data_train.loc[(data_train.Age>18) & (data_train.Sex=='female') & (data_train.Age<65) & (data_train.Survived==1)]\n",
    "print((len(women_adult_survived)/len(women_adult)))\n",
    "\n",
    "men_elder=data_train.loc[(data_train.Age>65) & (data_train.Sex=='male')]\n",
    "men_elder_survived=data_train.loc[(data_train.Age>65) & (data_train.Sex=='male') & (data_train.Survived==1)]\n",
    "print((len(men_elder_survived)/len(men_elder)))\n",
    "\n",
    "women_elder=data_train.loc[(data_train.Age>65) & (data_train.Sex=='female')]\n",
    "print(len(women_elder))"
   ]
  },
  {
   "cell_type": "markdown",
   "id": "6aa5d75c",
   "metadata": {
    "papermill": {
     "duration": 0.007739,
     "end_time": "2024-06-21T15:01:14.064839",
     "exception": false,
     "start_time": "2024-06-21T15:01:14.057100",
     "status": "completed"
    },
    "tags": []
   },
   "source": [
    "<span style=\"font-size: 18px;\">Interestingly, combining age and gender also produces some important observations.</span>"
   ]
  },
  {
   "cell_type": "code",
   "execution_count": 6,
   "id": "29728767",
   "metadata": {
    "execution": {
     "iopub.execute_input": "2024-06-21T15:01:14.082790Z",
     "iopub.status.busy": "2024-06-21T15:01:14.082416Z",
     "iopub.status.idle": "2024-06-21T15:01:14.097522Z",
     "shell.execute_reply": "2024-06-21T15:01:14.096240Z"
    },
    "papermill": {
     "duration": 0.026944,
     "end_time": "2024-06-21T15:01:14.100364",
     "exception": false,
     "start_time": "2024-06-21T15:01:14.073420",
     "status": "completed"
    },
    "tags": []
   },
   "outputs": [
    {
     "name": "stdout",
     "output_type": "stream",
     "text": [
      "0.6296296296296297\n",
      "0.47282608695652173\n",
      "0.24236252545824846\n"
     ]
    }
   ],
   "source": [
    "class1=data_train.loc[(data_train.Pclass==1)]\n",
    "class1_survived=data_train.loc[(data_train.Pclass==1) & (data_train.Survived==1)]\n",
    "print(len(class1_survived)/len(class1))\n",
    "\n",
    "class2=data_train.loc[(data_train.Pclass==2)]\n",
    "class2_survived=data_train.loc[(data_train.Pclass==2) & (data_train.Survived==1)]\n",
    "print(len(class2_survived)/len(class2))\n",
    "\n",
    "class3=data_train.loc[(data_train.Pclass==3)]\n",
    "class3_survived=data_train.loc[(data_train.Pclass==3) & (data_train.Survived==1)]\n",
    "print(len(class3_survived)/len(class3))"
   ]
  },
  {
   "cell_type": "markdown",
   "id": "b6e0ba49",
   "metadata": {
    "papermill": {
     "duration": 0.007694,
     "end_time": "2024-06-21T15:01:14.116531",
     "exception": false,
     "start_time": "2024-06-21T15:01:14.108837",
     "status": "completed"
    },
    "tags": []
   },
   "source": [
    "<span style=\"font-size: 18px;\">Class of a passenger is also important as class 1 passengers are usually evacuated first.</span>"
   ]
  },
  {
   "cell_type": "code",
   "execution_count": 7,
   "id": "0557a79d",
   "metadata": {
    "execution": {
     "iopub.execute_input": "2024-06-21T15:01:14.133783Z",
     "iopub.status.busy": "2024-06-21T15:01:14.133414Z",
     "iopub.status.idle": "2024-06-21T15:01:14.142811Z",
     "shell.execute_reply": "2024-06-21T15:01:14.141514Z"
    },
    "papermill": {
     "duration": 0.021601,
     "end_time": "2024-06-21T15:01:14.145901",
     "exception": false,
     "start_time": "2024-06-21T15:01:14.124300",
     "status": "completed"
    },
    "tags": []
   },
   "outputs": [
    {
     "name": "stdout",
     "output_type": "stream",
     "text": [
      "0.5358851674641149\n",
      "0.46411483253588515\n"
     ]
    }
   ],
   "source": [
    "sib_sp=data_train.loc[(data_train.SibSp==1)]\n",
    "sib_sp_survived=data_train.loc[(data_train.SibSp==1) & (data_train.Survived==1)]\n",
    "print(len(sib_sp_survived)/len(sib_sp))\n",
    "print(1-(len(sib_sp_survived)/len(sib_sp)))"
   ]
  },
  {
   "cell_type": "markdown",
   "id": "be2ba952",
   "metadata": {
    "papermill": {
     "duration": 0.007571,
     "end_time": "2024-06-21T15:01:14.162178",
     "exception": false,
     "start_time": "2024-06-21T15:01:14.154607",
     "status": "completed"
    },
    "tags": []
   },
   "source": [
    "<span style=\"font-size: 18px;\">Whether or not a passenger is travelling with a sibling or spouse can also be a candidate for a feature.</span>"
   ]
  },
  {
   "cell_type": "markdown",
   "id": "f62fce27",
   "metadata": {
    "papermill": {
     "duration": 0.007634,
     "end_time": "2024-06-21T15:01:14.178025",
     "exception": false,
     "start_time": "2024-06-21T15:01:14.170391",
     "status": "completed"
    },
    "tags": []
   },
   "source": [
    "# **Feature Engineering**\n",
    "<span style=\"font-size: 18px;\">Now, A class will be assigned to a passenger based on the ticket they purchase which can be engineered together as a socio-economic factor while evacuation.\n",
    "<br><br>\n",
    "Adding the sibling+parents+children can also be created into a new feature.\n",
    "</span>"
   ]
  },
  {
   "cell_type": "code",
   "execution_count": 8,
   "id": "3b3cc406",
   "metadata": {
    "execution": {
     "iopub.execute_input": "2024-06-21T15:01:14.196890Z",
     "iopub.status.busy": "2024-06-21T15:01:14.195915Z",
     "iopub.status.idle": "2024-06-21T15:01:14.208874Z",
     "shell.execute_reply": "2024-06-21T15:01:14.207794Z"
    },
    "papermill": {
     "duration": 0.025144,
     "end_time": "2024-06-21T15:01:14.211642",
     "exception": false,
     "start_time": "2024-06-21T15:01:14.186498",
     "status": "completed"
    },
    "tags": []
   },
   "outputs": [],
   "source": [
    "data_train['FarePclass'] = data_train['Fare'] + data_train['Pclass']\n",
    "data_test['FarePclass'] = data_test['Fare'] + data_test['Pclass']\n",
    "\n",
    "data_train['FamilySize'] = data_train['SibSp'] + data_train['Parch'] + 1\n",
    "data_test['FamilySize'] = data_test['SibSp'] + data_test['Parch'] + 1"
   ]
  },
  {
   "cell_type": "markdown",
   "id": "d5bc8594",
   "metadata": {
    "papermill": {
     "duration": 0.007878,
     "end_time": "2024-06-21T15:01:14.227430",
     "exception": false,
     "start_time": "2024-06-21T15:01:14.219552",
     "status": "completed"
    },
    "tags": []
   },
   "source": [
    "<span style=\"font-size: 18px;\">Checking null values.</span>"
   ]
  },
  {
   "cell_type": "code",
   "execution_count": 9,
   "id": "345c2809",
   "metadata": {
    "execution": {
     "iopub.execute_input": "2024-06-21T15:01:14.245893Z",
     "iopub.status.busy": "2024-06-21T15:01:14.244917Z",
     "iopub.status.idle": "2024-06-21T15:01:14.254599Z",
     "shell.execute_reply": "2024-06-21T15:01:14.253189Z"
    },
    "papermill": {
     "duration": 0.021888,
     "end_time": "2024-06-21T15:01:14.257138",
     "exception": false,
     "start_time": "2024-06-21T15:01:14.235250",
     "status": "completed"
    },
    "tags": []
   },
   "outputs": [
    {
     "name": "stdout",
     "output_type": "stream",
     "text": [
      "PassengerId      0\n",
      "Survived         0\n",
      "Pclass           0\n",
      "Name             0\n",
      "Sex              0\n",
      "Age            177\n",
      "SibSp            0\n",
      "Parch            0\n",
      "Ticket           0\n",
      "Fare             0\n",
      "Cabin          687\n",
      "Embarked         2\n",
      "FarePclass       0\n",
      "FamilySize       0\n",
      "dtype: int64\n"
     ]
    }
   ],
   "source": [
    "print(data_train.isnull().sum())"
   ]
  },
  {
   "cell_type": "markdown",
   "id": "66d86e5a",
   "metadata": {
    "papermill": {
     "duration": 0.007402,
     "end_time": "2024-06-21T15:01:14.272554",
     "exception": false,
     "start_time": "2024-06-21T15:01:14.265152",
     "status": "completed"
    },
    "tags": []
   },
   "source": [
    "<span style=\"font-size: 18px;\">filling null values based on median.</span>"
   ]
  },
  {
   "cell_type": "code",
   "execution_count": 10,
   "id": "2e879e07",
   "metadata": {
    "execution": {
     "iopub.execute_input": "2024-06-21T15:01:14.289955Z",
     "iopub.status.busy": "2024-06-21T15:01:14.289533Z",
     "iopub.status.idle": "2024-06-21T15:01:14.303755Z",
     "shell.execute_reply": "2024-06-21T15:01:14.302635Z"
    },
    "papermill": {
     "duration": 0.026126,
     "end_time": "2024-06-21T15:01:14.306489",
     "exception": false,
     "start_time": "2024-06-21T15:01:14.280363",
     "status": "completed"
    },
    "tags": []
   },
   "outputs": [],
   "source": [
    "median_train=data_train['Age'].median()\n",
    "median_test=data_test['Age'].median()\n",
    "\n",
    "data_train['Age'].fillna(median_train, inplace=True)\n",
    "data_test['Age'].fillna(median_test, inplace=True)\n",
    "\n",
    "medianfp_train=data_train['FarePclass'].median()\n",
    "medianfp_test=data_test['FarePclass'].median()\n",
    "\n",
    "data_train['FarePclass'].fillna(medianfp_train, inplace=True)\n",
    "data_test['FarePclass'].fillna(medianfp_test, inplace=True)"
   ]
  },
  {
   "cell_type": "code",
   "execution_count": 11,
   "id": "20ce3ff8",
   "metadata": {
    "execution": {
     "iopub.execute_input": "2024-06-21T15:01:14.324359Z",
     "iopub.status.busy": "2024-06-21T15:01:14.323894Z",
     "iopub.status.idle": "2024-06-21T15:01:14.387273Z",
     "shell.execute_reply": "2024-06-21T15:01:14.385842Z"
    },
    "papermill": {
     "duration": 0.075803,
     "end_time": "2024-06-21T15:01:14.390311",
     "exception": false,
     "start_time": "2024-06-21T15:01:14.314508",
     "status": "completed"
    },
    "tags": []
   },
   "outputs": [
    {
     "name": "stdout",
     "output_type": "stream",
     "text": [
      "accuracy = 80.19662921348315\n",
      "accuracy for split dataset = 80.44692737430168\n"
     ]
    }
   ],
   "source": [
    "features=['Sex','Age','Pclass','FamilySize','FarePclass']\n",
    "x=pd.get_dummies(data_train[features])\n",
    "y=data_train['Survived']\n",
    "x_test_a=pd.get_dummies(data_test[features])\n",
    "x_train,x_test,y_train,y_test=train_test_split(x,y,test_size=0.2,random_state=42)\n",
    "lr=LogisticRegression(max_iter=10000)\n",
    "lr.fit(x_train,y_train)\n",
    "predi = lr.predict(x_train)\n",
    "acci = accuracy_score(predi,y_train)\n",
    "print('accuracy =', acci*100)\n",
    "y_pred=lr.predict(x_test)\n",
    "ypred=lr.predict(x_test_a)\n",
    "accsplit = accuracy_score(y_pred,y_test)\n",
    "print('accuracy for split dataset =', accsplit*100)"
   ]
  },
  {
   "cell_type": "code",
   "execution_count": 12,
   "id": "6ec871b3",
   "metadata": {
    "execution": {
     "iopub.execute_input": "2024-06-21T15:01:14.408585Z",
     "iopub.status.busy": "2024-06-21T15:01:14.407735Z",
     "iopub.status.idle": "2024-06-21T15:01:14.418075Z",
     "shell.execute_reply": "2024-06-21T15:01:14.416890Z"
    },
    "papermill": {
     "duration": 0.022547,
     "end_time": "2024-06-21T15:01:14.420913",
     "exception": false,
     "start_time": "2024-06-21T15:01:14.398366",
     "status": "completed"
    },
    "tags": []
   },
   "outputs": [],
   "source": [
    "submission = pd.DataFrame({\n",
    "    'PassengerId': data_test['PassengerId'],\n",
    "    'Survived': ypred\n",
    "})\n",
    "submission.to_csv('/kaggle/working/submission.csv', index=False)"
   ]
  }
 ],
 "metadata": {
  "kaggle": {
   "accelerator": "none",
   "dataSources": [
    {
     "databundleVersionId": 26502,
     "sourceId": 3136,
     "sourceType": "competition"
    }
   ],
   "dockerImageVersionId": 30732,
   "isGpuEnabled": false,
   "isInternetEnabled": true,
   "language": "python",
   "sourceType": "notebook"
  },
  "kernelspec": {
   "display_name": "Python 3",
   "language": "python",
   "name": "python3"
  },
  "language_info": {
   "codemirror_mode": {
    "name": "ipython",
    "version": 3
   },
   "file_extension": ".py",
   "mimetype": "text/x-python",
   "name": "python",
   "nbconvert_exporter": "python",
   "pygments_lexer": "ipython3",
   "version": "3.10.13"
  },
  "papermill": {
   "default_parameters": {},
   "duration": 7.977907,
   "end_time": "2024-06-21T15:01:15.051197",
   "environment_variables": {},
   "exception": null,
   "input_path": "__notebook__.ipynb",
   "output_path": "__notebook__.ipynb",
   "parameters": {},
   "start_time": "2024-06-21T15:01:07.073290",
   "version": "2.5.0"
  }
 },
 "nbformat": 4,
 "nbformat_minor": 5
}
