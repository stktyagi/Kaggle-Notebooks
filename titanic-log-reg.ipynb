{
 "cells": [
  {
   "cell_type": "code",
   "execution_count": 1,
   "id": "3a6e403c",
   "metadata": {
    "_cell_guid": "b1076dfc-b9ad-4769-8c92-a6c4dae69d19",
    "_uuid": "8f2839f25d086af736a60e9eeb907d3b93b6e0e5",
    "execution": {
     "iopub.execute_input": "2024-06-20T16:42:43.786224Z",
     "iopub.status.busy": "2024-06-20T16:42:43.785280Z",
     "iopub.status.idle": "2024-06-20T16:42:46.636988Z",
     "shell.execute_reply": "2024-06-20T16:42:46.635607Z"
    },
    "papermill": {
     "duration": 2.858361,
     "end_time": "2024-06-20T16:42:46.639901",
     "exception": false,
     "start_time": "2024-06-20T16:42:43.781540",
     "status": "completed"
    },
    "tags": []
   },
   "outputs": [
    {
     "name": "stdout",
     "output_type": "stream",
     "text": [
      "/kaggle/input/titanic/train.csv\n",
      "/kaggle/input/titanic/test.csv\n",
      "/kaggle/input/titanic/gender_submission.csv\n"
     ]
    }
   ],
   "source": [
    "# This Python 3 environment comes with many helpful analytics libraries installed\n",
    "# It is defined by the kaggle/python Docker image: https://github.com/kaggle/docker-python\n",
    "# For example, here's several helpful packages to load\n",
    "\n",
    "import numpy as np # linear algebra\n",
    "import pandas as pd # data processing, CSV file I/O (e.g. pd.read_csv)\n",
    "import seaborn as sns\n",
    "import matplotlib.pyplot as plt\n",
    "from sklearn.model_selection import train_test_split\n",
    "from sklearn.linear_model import LogisticRegression\n",
    "from sklearn.metrics import accuracy_score, confusion_matrix, classification_report\n",
    "# Input data files are available in the read-only \"../input/\" directory\n",
    "# For example, running this (by clicking run or pressing Shift+Enter) will list all files under the input directory\n",
    "\n",
    "import os\n",
    "for dirname, _, filenames in os.walk('/kaggle/input'):\n",
    "    for filename in filenames:\n",
    "        print(os.path.join(dirname, filename))\n",
    "\n",
    "# You can write up to 20GB to the current directory (/kaggle/working/) that gets preserved as output when you create a version using \"Save & Run All\" \n",
    "# You can also write temporary files to /kaggle/temp/, but they won't be saved outside of the current session"
   ]
  },
  {
   "cell_type": "code",
   "execution_count": 2,
   "id": "bbd144e1",
   "metadata": {
    "execution": {
     "iopub.execute_input": "2024-06-20T16:42:46.645971Z",
     "iopub.status.busy": "2024-06-20T16:42:46.645369Z",
     "iopub.status.idle": "2024-06-20T16:42:46.736354Z",
     "shell.execute_reply": "2024-06-20T16:42:46.735216Z"
    },
    "papermill": {
     "duration": 0.097203,
     "end_time": "2024-06-20T16:42:46.739328",
     "exception": false,
     "start_time": "2024-06-20T16:42:46.642125",
     "status": "completed"
    },
    "tags": []
   },
   "outputs": [],
   "source": [
    "data_train = pd.read_csv('/kaggle/input/titanic/train.csv')\n",
    "data_test = pd.read_csv('/kaggle/input/titanic/test.csv')\n",
    "data_train['Sex'] = data_train['Sex'].map({'male': 1, 'female': 0})\n",
    "data_train['Embarked'] = data_train['Embarked'].map({'S': 0, 'C': 1, 'Q': 2})\n",
    "data_train['Age'] = data_train['Age'].fillna(data_train['Age'].median())\n",
    "data_train['Embarked'] = data_train['Embarked'].fillna(data_train['Embarked'].mode()[0])\n",
    "\n",
    "data_test['Sex'] = data_test['Sex'].map({'male': 1, 'female': 0})\n",
    "data_test['Embarked'] = data_test['Embarked'].map({'S': 0, 'C': 1, 'Q': 2})\n",
    "data_test['Age'] = data_test['Age'].fillna(data_test['Age'].median())\n",
    "data_test['Fare'] = data_test['Fare'].fillna(data_test['Fare'].median())\n",
    "\n",
    "features = ['Pclass', 'Sex', 'Age', 'SibSp', 'Parch', 'Fare', 'Embarked']\n",
    "x_train = data_train[features]\n",
    "y_train = data_train['Survived']\n",
    "x_test = data_test[features]\n",
    "\n",
    "lr = LogisticRegression(max_iter=10000)\n",
    "lr.fit(x_train, y_train)\n",
    "\n",
    "y_pred = lr.predict(x_test)\n",
    "submission = pd.DataFrame({\n",
    "    'PassengerId': data_test['PassengerId'],\n",
    "    'Survived': y_pred\n",
    "})\n",
    "submission.to_csv('/kaggle/working/submission.csv', index=False)\n"
   ]
  }
 ],
 "metadata": {
  "kaggle": {
   "accelerator": "none",
   "dataSources": [
    {
     "databundleVersionId": 26502,
     "sourceId": 3136,
     "sourceType": "competition"
    }
   ],
   "dockerImageVersionId": 30732,
   "isGpuEnabled": false,
   "isInternetEnabled": true,
   "language": "python",
   "sourceType": "notebook"
  },
  "kernelspec": {
   "display_name": "Python 3",
   "language": "python",
   "name": "python3"
  },
  "language_info": {
   "codemirror_mode": {
    "name": "ipython",
    "version": 3
   },
   "file_extension": ".py",
   "mimetype": "text/x-python",
   "name": "python",
   "nbconvert_exporter": "python",
   "pygments_lexer": "ipython3",
   "version": "3.10.13"
  },
  "papermill": {
   "default_parameters": {},
   "duration": 6.400157,
   "end_time": "2024-06-20T16:42:47.362402",
   "environment_variables": {},
   "exception": null,
   "input_path": "__notebook__.ipynb",
   "output_path": "__notebook__.ipynb",
   "parameters": {},
   "start_time": "2024-06-20T16:42:40.962245",
   "version": "2.5.0"
  }
 },
 "nbformat": 4,
 "nbformat_minor": 5
}
